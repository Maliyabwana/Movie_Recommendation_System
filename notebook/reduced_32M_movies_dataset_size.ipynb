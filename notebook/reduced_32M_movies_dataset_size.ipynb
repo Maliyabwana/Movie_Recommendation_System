{
 "cells": [
  {
   "cell_type": "markdown",
   "id": "e085ccf6",
   "metadata": {},
   "source": [
    "# Movie Recommendation System\n",
    "\n",
    "## Prerequisites\n",
    " **Dataset**: Download the MovieLens 32M dataset from https://files.grouplens.org/datasets/movielens/ml-32m.zip. Unzip `ml-32m.zip` and copy ratings.csv and movies.csv to dataset folder. .\n",
    "   - Expected files: `ratings.csv`, `movies.csv`.\n",
    "   - Directory structure:\n",
    "     ```\n",
    "     Movie Recommendation System/\n",
    "     ├── dataset/\n",
    "     │     ├── ratings.csv\n",
    "     │     ├── movies.csv\n",
    "     │     └── ...\n",
    "     ├── notebook\n",
    "           ├── reduced_32M_movies_dataset.ipynb\n",
    "     ```"
   ]
  },
  {
   "cell_type": "code",
   "execution_count": 1,
   "id": "6414e079",
   "metadata": {},
   "outputs": [],
   "source": [
    "import pandas as pd"
   ]
  },
  {
   "cell_type": "code",
   "execution_count": 2,
   "id": "5242eecc",
   "metadata": {},
   "outputs": [],
   "source": [
    "def load_data():\n",
    "    try:\n",
    "        # Load movies data\n",
    "        movies = pd.read_csv(\"../dataset/movies.csv\")\n",
    "\n",
    "        # Load full ratings data at once (no chunking)\n",
    "        ratings = pd.read_csv(\"../dataset/ratings.csv\")\n",
    "\n",
    "        # Get valid movie IDs from ratings\n",
    "        valid_movie_ids = ratings['movieId'].unique()\n",
    "\n",
    "        # Filter movies to only include those present in ratings\n",
    "        movies = movies[movies['movieId'].isin(valid_movie_ids)]\n",
    "\n",
    "        return movies, ratings\n",
    "\n",
    "    except FileNotFoundError as e:\n",
    "        print(f\"Error: Data file not found - {e}\")\n",
    "        raise\n",
    "    except Exception as e:\n",
    "        print(f\"Error loading data: {e}\")\n",
    "        raise"
   ]
  },
  {
   "cell_type": "code",
   "execution_count": 3,
   "id": "256531fe",
   "metadata": {},
   "outputs": [
    {
     "name": "stdout",
     "output_type": "stream",
     "text": [
      "Movies shape: (84432, 3)\n",
      "Ratings shape: (32000204, 4)\n"
     ]
    }
   ],
   "source": [
    "movies, ratings = load_data()\n",
    "print(f\"Movies shape: {movies.shape}\")\n",
    "print(f\"Ratings shape: {ratings.shape}\")"
   ]
  },
  {
   "cell_type": "code",
   "execution_count": 4,
   "id": "fcdd8fe9",
   "metadata": {},
   "outputs": [
    {
     "data": {
      "text/html": [
       "<div>\n",
       "<style scoped>\n",
       "    .dataframe tbody tr th:only-of-type {\n",
       "        vertical-align: middle;\n",
       "    }\n",
       "\n",
       "    .dataframe tbody tr th {\n",
       "        vertical-align: top;\n",
       "    }\n",
       "\n",
       "    .dataframe thead th {\n",
       "        text-align: right;\n",
       "    }\n",
       "</style>\n",
       "<table border=\"1\" class=\"dataframe\">\n",
       "  <thead>\n",
       "    <tr style=\"text-align: right;\">\n",
       "      <th></th>\n",
       "      <th>userId</th>\n",
       "      <th>movieId</th>\n",
       "      <th>rating</th>\n",
       "      <th>timestamp</th>\n",
       "    </tr>\n",
       "  </thead>\n",
       "  <tbody>\n",
       "    <tr>\n",
       "      <th>0</th>\n",
       "      <td>1</td>\n",
       "      <td>17</td>\n",
       "      <td>4.0</td>\n",
       "      <td>944249077</td>\n",
       "    </tr>\n",
       "    <tr>\n",
       "      <th>1</th>\n",
       "      <td>1</td>\n",
       "      <td>25</td>\n",
       "      <td>1.0</td>\n",
       "      <td>944250228</td>\n",
       "    </tr>\n",
       "    <tr>\n",
       "      <th>2</th>\n",
       "      <td>1</td>\n",
       "      <td>29</td>\n",
       "      <td>2.0</td>\n",
       "      <td>943230976</td>\n",
       "    </tr>\n",
       "    <tr>\n",
       "      <th>3</th>\n",
       "      <td>1</td>\n",
       "      <td>30</td>\n",
       "      <td>5.0</td>\n",
       "      <td>944249077</td>\n",
       "    </tr>\n",
       "    <tr>\n",
       "      <th>4</th>\n",
       "      <td>1</td>\n",
       "      <td>32</td>\n",
       "      <td>5.0</td>\n",
       "      <td>943228858</td>\n",
       "    </tr>\n",
       "  </tbody>\n",
       "</table>\n",
       "</div>"
      ],
      "text/plain": [
       "   userId  movieId  rating  timestamp\n",
       "0       1       17     4.0  944249077\n",
       "1       1       25     1.0  944250228\n",
       "2       1       29     2.0  943230976\n",
       "3       1       30     5.0  944249077\n",
       "4       1       32     5.0  943228858"
      ]
     },
     "execution_count": 4,
     "metadata": {},
     "output_type": "execute_result"
    }
   ],
   "source": [
    "ratings.head()"
   ]
  },
  {
   "cell_type": "code",
   "execution_count": 5,
   "id": "add59d9c",
   "metadata": {},
   "outputs": [
    {
     "data": {
      "text/html": [
       "<div>\n",
       "<style scoped>\n",
       "    .dataframe tbody tr th:only-of-type {\n",
       "        vertical-align: middle;\n",
       "    }\n",
       "\n",
       "    .dataframe tbody tr th {\n",
       "        vertical-align: top;\n",
       "    }\n",
       "\n",
       "    .dataframe thead th {\n",
       "        text-align: right;\n",
       "    }\n",
       "</style>\n",
       "<table border=\"1\" class=\"dataframe\">\n",
       "  <thead>\n",
       "    <tr style=\"text-align: right;\">\n",
       "      <th></th>\n",
       "      <th>movieId</th>\n",
       "      <th>title</th>\n",
       "      <th>genres</th>\n",
       "    </tr>\n",
       "  </thead>\n",
       "  <tbody>\n",
       "    <tr>\n",
       "      <th>0</th>\n",
       "      <td>1</td>\n",
       "      <td>Toy Story (1995)</td>\n",
       "      <td>Adventure|Animation|Children|Comedy|Fantasy</td>\n",
       "    </tr>\n",
       "    <tr>\n",
       "      <th>1</th>\n",
       "      <td>2</td>\n",
       "      <td>Jumanji (1995)</td>\n",
       "      <td>Adventure|Children|Fantasy</td>\n",
       "    </tr>\n",
       "    <tr>\n",
       "      <th>2</th>\n",
       "      <td>3</td>\n",
       "      <td>Grumpier Old Men (1995)</td>\n",
       "      <td>Comedy|Romance</td>\n",
       "    </tr>\n",
       "    <tr>\n",
       "      <th>3</th>\n",
       "      <td>4</td>\n",
       "      <td>Waiting to Exhale (1995)</td>\n",
       "      <td>Comedy|Drama|Romance</td>\n",
       "    </tr>\n",
       "    <tr>\n",
       "      <th>4</th>\n",
       "      <td>5</td>\n",
       "      <td>Father of the Bride Part II (1995)</td>\n",
       "      <td>Comedy</td>\n",
       "    </tr>\n",
       "  </tbody>\n",
       "</table>\n",
       "</div>"
      ],
      "text/plain": [
       "   movieId                               title  \\\n",
       "0        1                    Toy Story (1995)   \n",
       "1        2                      Jumanji (1995)   \n",
       "2        3             Grumpier Old Men (1995)   \n",
       "3        4            Waiting to Exhale (1995)   \n",
       "4        5  Father of the Bride Part II (1995)   \n",
       "\n",
       "                                        genres  \n",
       "0  Adventure|Animation|Children|Comedy|Fantasy  \n",
       "1                   Adventure|Children|Fantasy  \n",
       "2                               Comedy|Romance  \n",
       "3                         Comedy|Drama|Romance  \n",
       "4                                       Comedy  "
      ]
     },
     "execution_count": 5,
     "metadata": {},
     "output_type": "execute_result"
    }
   ],
   "source": [
    "movies.head()"
   ]
  },
  {
   "cell_type": "code",
   "execution_count": 6,
   "id": "27419c39",
   "metadata": {},
   "outputs": [
    {
     "data": {
      "text/plain": [
       "0"
      ]
     },
     "execution_count": 6,
     "metadata": {},
     "output_type": "execute_result"
    }
   ],
   "source": [
    "movies.isna().sum().sum()"
   ]
  },
  {
   "cell_type": "code",
   "execution_count": 7,
   "id": "9e16327c",
   "metadata": {},
   "outputs": [
    {
     "data": {
      "text/plain": [
       "0"
      ]
     },
     "execution_count": 7,
     "metadata": {},
     "output_type": "execute_result"
    }
   ],
   "source": [
    "ratings.isna().sum().sum()"
   ]
  },
  {
   "cell_type": "code",
   "execution_count": 8,
   "id": "43111fed",
   "metadata": {},
   "outputs": [],
   "source": [
    "# Step 2: Extract year from title\n",
    "def extract_year(title):\n",
    "    if '(' in title and title.endswith(')'):\n",
    "        year_str = title[-5:-1]\n",
    "        if year_str.isdigit():\n",
    "            return int(year_str)\n",
    "    return None"
   ]
  },
  {
   "cell_type": "code",
   "execution_count": 9,
   "id": "04a0f0c6",
   "metadata": {},
   "outputs": [],
   "source": [
    "movies['year'] = movies['title'].apply(extract_year)"
   ]
  },
  {
   "cell_type": "code",
   "execution_count": 10,
   "id": "e87d9db4",
   "metadata": {},
   "outputs": [],
   "source": [
    "# Step 3: Get min and max year\n",
    "min_year = movies['year'].min()\n",
    "max_year = movies['year'].max()"
   ]
  },
  {
   "cell_type": "code",
   "execution_count": 11,
   "id": "3ddacf94",
   "metadata": {},
   "outputs": [
    {
     "data": {
      "text/plain": [
       "1874.0"
      ]
     },
     "execution_count": 11,
     "metadata": {},
     "output_type": "execute_result"
    }
   ],
   "source": [
    "min_year"
   ]
  },
  {
   "cell_type": "code",
   "execution_count": 12,
   "id": "111f36c0",
   "metadata": {},
   "outputs": [
    {
     "data": {
      "text/plain": [
       "2023.0"
      ]
     },
     "execution_count": 12,
     "metadata": {},
     "output_type": "execute_result"
    }
   ],
   "source": [
    "max_year"
   ]
  },
  {
   "cell_type": "code",
   "execution_count": 13,
   "id": "0924ea58",
   "metadata": {},
   "outputs": [],
   "source": [
    "# You may choose the starting and ending year of your choice\n",
    "start_year = 2019\n",
    "end_year = 2023\n",
    "\n",
    "# Filter movies within the year range\n",
    "filtered_movies = movies[(movies['year'] >= start_year) & (movies['year'] <= end_year)]\n",
    "\n",
    "# Get valid movie IDs\n",
    "valid_movie_ids = filtered_movies['movieId'].unique()"
   ]
  },
  {
   "cell_type": "code",
   "execution_count": 14,
   "id": "6f5dfecd",
   "metadata": {},
   "outputs": [],
   "source": [
    "# Filter ratings to only include those for selected movies\n",
    "filtered_ratings = ratings[ratings['movieId'].isin(valid_movie_ids)]"
   ]
  },
  {
   "cell_type": "code",
   "execution_count": 15,
   "id": "81c6fe51",
   "metadata": {},
   "outputs": [
    {
     "name": "stdout",
     "output_type": "stream",
     "text": [
      "Filtered datasets saved:\n",
      "- filtered_movies.csv\n",
      "- filtered_ratings.csv\n"
     ]
    }
   ],
   "source": [
    "filtered_movies.to_csv('../dataset/filtered_movies.csv', index=False)\n",
    "filtered_ratings.to_csv('../dataset/filtered_ratings.csv', index=False)\n",
    "\n",
    "print(\"Filtered datasets saved:\")\n",
    "print(\"- filtered_movies.csv\")\n",
    "print(\"- filtered_ratings.csv\")"
   ]
  },
  {
   "cell_type": "code",
   "execution_count": 17,
   "id": "f44e2400",
   "metadata": {},
   "outputs": [],
   "source": [
    "m = pd.read_csv(\"../dataset/filtered_movies.csv\")\n",
    "r = pd.read_csv(\"../dataset/filtered_ratings.csv\")"
   ]
  },
  {
   "cell_type": "code",
   "execution_count": 18,
   "id": "50f4e713",
   "metadata": {},
   "outputs": [
    {
     "data": {
      "text/plain": [
       "(10991, 4)"
      ]
     },
     "execution_count": 18,
     "metadata": {},
     "output_type": "execute_result"
    }
   ],
   "source": [
    "m.shape"
   ]
  },
  {
   "cell_type": "code",
   "execution_count": 19,
   "id": "8819b36f",
   "metadata": {},
   "outputs": [
    {
     "data": {
      "text/plain": [
       "(515161, 4)"
      ]
     },
     "execution_count": 19,
     "metadata": {},
     "output_type": "execute_result"
    }
   ],
   "source": [
    "r.shape"
   ]
  },
  {
   "cell_type": "code",
   "execution_count": 20,
   "id": "ef31c29f",
   "metadata": {},
   "outputs": [
    {
     "data": {
      "text/html": [
       "<div>\n",
       "<style scoped>\n",
       "    .dataframe tbody tr th:only-of-type {\n",
       "        vertical-align: middle;\n",
       "    }\n",
       "\n",
       "    .dataframe tbody tr th {\n",
       "        vertical-align: top;\n",
       "    }\n",
       "\n",
       "    .dataframe thead th {\n",
       "        text-align: right;\n",
       "    }\n",
       "</style>\n",
       "<table border=\"1\" class=\"dataframe\">\n",
       "  <thead>\n",
       "    <tr style=\"text-align: right;\">\n",
       "      <th></th>\n",
       "      <th>movieId</th>\n",
       "      <th>title</th>\n",
       "      <th>genres</th>\n",
       "      <th>year</th>\n",
       "    </tr>\n",
       "  </thead>\n",
       "  <tbody>\n",
       "    <tr>\n",
       "      <th>0</th>\n",
       "      <td>122914</td>\n",
       "      <td>Avengers: Infinity War - Part II (2019)</td>\n",
       "      <td>Action|Adventure|Sci-Fi</td>\n",
       "      <td>2019.0</td>\n",
       "    </tr>\n",
       "    <tr>\n",
       "      <th>1</th>\n",
       "      <td>143345</td>\n",
       "      <td>Shazam! (2019)</td>\n",
       "      <td>Action|Adventure|Fantasy|Sci-Fi</td>\n",
       "      <td>2019.0</td>\n",
       "    </tr>\n",
       "    <tr>\n",
       "      <th>2</th>\n",
       "      <td>195473</td>\n",
       "      <td>Les Invisibles (2019)</td>\n",
       "      <td>(no genres listed)</td>\n",
       "      <td>2019.0</td>\n",
       "    </tr>\n",
       "    <tr>\n",
       "      <th>3</th>\n",
       "      <td>196223</td>\n",
       "      <td>Hellboy (2019)</td>\n",
       "      <td>Action|Adventure|Fantasy</td>\n",
       "      <td>2019.0</td>\n",
       "    </tr>\n",
       "    <tr>\n",
       "      <th>4</th>\n",
       "      <td>196417</td>\n",
       "      <td>How to Train Your Dragon: The Hidden World (2019)</td>\n",
       "      <td>Adventure|Animation|Children</td>\n",
       "      <td>2019.0</td>\n",
       "    </tr>\n",
       "  </tbody>\n",
       "</table>\n",
       "</div>"
      ],
      "text/plain": [
       "   movieId                                              title  \\\n",
       "0   122914            Avengers: Infinity War - Part II (2019)   \n",
       "1   143345                                     Shazam! (2019)   \n",
       "2   195473                              Les Invisibles (2019)   \n",
       "3   196223                                     Hellboy (2019)   \n",
       "4   196417  How to Train Your Dragon: The Hidden World (2019)   \n",
       "\n",
       "                            genres    year  \n",
       "0          Action|Adventure|Sci-Fi  2019.0  \n",
       "1  Action|Adventure|Fantasy|Sci-Fi  2019.0  \n",
       "2               (no genres listed)  2019.0  \n",
       "3         Action|Adventure|Fantasy  2019.0  \n",
       "4     Adventure|Animation|Children  2019.0  "
      ]
     },
     "execution_count": 20,
     "metadata": {},
     "output_type": "execute_result"
    }
   ],
   "source": [
    "m.head()"
   ]
  },
  {
   "cell_type": "code",
   "execution_count": 21,
   "id": "4e08a5aa",
   "metadata": {},
   "outputs": [
    {
     "data": {
      "text/html": [
       "<div>\n",
       "<style scoped>\n",
       "    .dataframe tbody tr th:only-of-type {\n",
       "        vertical-align: middle;\n",
       "    }\n",
       "\n",
       "    .dataframe tbody tr th {\n",
       "        vertical-align: top;\n",
       "    }\n",
       "\n",
       "    .dataframe thead th {\n",
       "        text-align: right;\n",
       "    }\n",
       "</style>\n",
       "<table border=\"1\" class=\"dataframe\">\n",
       "  <thead>\n",
       "    <tr style=\"text-align: right;\">\n",
       "      <th></th>\n",
       "      <th>userId</th>\n",
       "      <th>movieId</th>\n",
       "      <th>rating</th>\n",
       "      <th>timestamp</th>\n",
       "    </tr>\n",
       "  </thead>\n",
       "  <tbody>\n",
       "    <tr>\n",
       "      <th>0</th>\n",
       "      <td>16</td>\n",
       "      <td>200818</td>\n",
       "      <td>4.0</td>\n",
       "      <td>1572741766</td>\n",
       "    </tr>\n",
       "    <tr>\n",
       "      <th>1</th>\n",
       "      <td>20</td>\n",
       "      <td>196417</td>\n",
       "      <td>4.0</td>\n",
       "      <td>1553181245</td>\n",
       "    </tr>\n",
       "    <tr>\n",
       "      <th>2</th>\n",
       "      <td>20</td>\n",
       "      <td>200042</td>\n",
       "      <td>4.0</td>\n",
       "      <td>1553180593</td>\n",
       "    </tr>\n",
       "    <tr>\n",
       "      <th>3</th>\n",
       "      <td>22</td>\n",
       "      <td>197889</td>\n",
       "      <td>4.0</td>\n",
       "      <td>1617162338</td>\n",
       "    </tr>\n",
       "    <tr>\n",
       "      <th>4</th>\n",
       "      <td>22</td>\n",
       "      <td>200838</td>\n",
       "      <td>4.0</td>\n",
       "      <td>1581474048</td>\n",
       "    </tr>\n",
       "  </tbody>\n",
       "</table>\n",
       "</div>"
      ],
      "text/plain": [
       "   userId  movieId  rating   timestamp\n",
       "0      16   200818     4.0  1572741766\n",
       "1      20   196417     4.0  1553181245\n",
       "2      20   200042     4.0  1553180593\n",
       "3      22   197889     4.0  1617162338\n",
       "4      22   200838     4.0  1581474048"
      ]
     },
     "execution_count": 21,
     "metadata": {},
     "output_type": "execute_result"
    }
   ],
   "source": [
    "r.head()"
   ]
  },
  {
   "cell_type": "code",
   "execution_count": null,
   "id": "c1e4f860",
   "metadata": {},
   "outputs": [],
   "source": []
  },
  {
   "cell_type": "code",
   "execution_count": null,
   "id": "5d3f798e",
   "metadata": {},
   "outputs": [],
   "source": []
  }
 ],
 "metadata": {
  "kernelspec": {
   "display_name": "mallya(tfod)",
   "language": "python",
   "name": "tfod"
  },
  "language_info": {
   "codemirror_mode": {
    "name": "ipython",
    "version": 3
   },
   "file_extension": ".py",
   "mimetype": "text/x-python",
   "name": "python",
   "nbconvert_exporter": "python",
   "pygments_lexer": "ipython3",
   "version": "3.8.0"
  }
 },
 "nbformat": 4,
 "nbformat_minor": 5
}
